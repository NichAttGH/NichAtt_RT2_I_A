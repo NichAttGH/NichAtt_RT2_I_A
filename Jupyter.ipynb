{
 "cells": [
  {
   "cell_type": "code",
   "execution_count": null,
   "id": "d1dc46fa",
   "metadata": {
    "ExecuteTime": {
     "end_time": "2023-05-29T10:02:34.520102Z",
     "start_time": "2023-05-29T10:02:32.577496Z"
    }
   },
   "outputs": [],
   "source": [
    "# import ros and jupyter stuff\n",
    "import rospy\n",
    "import actionlib\n",
    "import actionlib.msg\n",
    "import sys, select\n",
    "import assignment_2_2022.msg\n",
    "from nav_msgs.msg import Odometry\n",
    "from assignment_2_2022.msg import custom_msg\n",
    "from std_srvs.srv import *\n",
    "from geometry_msgs.msg import Twist, Pose, Point\n",
    "\n",
    "import ipywidgets as widgets\n",
    "import jupyros as jr\n",
    "import time\n",
    "from assignment_2_2022.srv import service_goals, service_goalsRequest\n",
    "import matplotlib.pyplot as plt\n",
    "import numpy as np\n",
    "from sensor_msgs.msg import LaserScan\n",
    "from matplotlib.animation import FuncAnimation\n",
    "import math\n",
    "%matplotlib widget"
   ]
  },
  {
   "cell_type": "code",
   "execution_count": null,
   "id": "3d90d8aa",
   "metadata": {
    "ExecuteTime": {
     "end_time": "2023-05-29T10:02:38.640795Z",
     "start_time": "2023-05-29T10:02:38.632155Z"
    }
   },
   "outputs": [],
   "source": [
    "def publish_msg(message):\n",
    "   \n",
    "    global publisher\n",
    "    global last_time_published_odom\n",
    "        \n",
    "    # Get the position and velocity\n",
    "    pos_x = round(message.pose.pose.position.x, 1)\n",
    "    pos_y = round(message.pose.pose.position.y, 1)\n",
    "    vel_x = message.twist.twist.linear.x\n",
    "    vel_y = message.twist.twist.linear.y\n",
    "\n",
    "    # Creation of the custom message\n",
    "    custom_message = custom_msg()\n",
    "    \n",
    "    custom_message.actual_x = pos_x\n",
    "    custom_message.actual_y = pos_y\n",
    "    custom_message.actual_vel_x = vel_x\n",
    "    custom_message.actual_vel_y = vel_y\n",
    "    \n",
    "    # Publishing the custom message\n",
    "    publisher.publish(custom_message)\n",
    "    \n",
    "    # This part is necessary to see costantly the robot position every 100ms\n",
    "    current_time = time.time() * 1000\n",
    "    if current_time - last_time_published_odom > 100:\n",
    "        print(\"\\rRobot position: x={}, y={}\".format(pos_x, pos_y), end='')\n",
    "        last_time_published_odom = current_time"
   ]
  },
  {
   "cell_type": "code",
   "execution_count": null,
   "id": "e7920d23",
   "metadata": {
    "ExecuteTime": {
     "end_time": "2023-05-29T10:02:40.872771Z",
     "start_time": "2023-05-29T10:02:40.865922Z"
    }
   },
   "outputs": [],
   "source": [
    "def on_send_goal_button_clicked(b):\n",
    "    # Call 'action_cliient' function\n",
    "    action_client()\n",
    "    \n",
    "def action_client():\n",
    "    global goal\n",
    "\n",
    "    # Creation of the goal for the robot\n",
    "    goal = assignment_2_2022.msg.PlanningGoal()\n",
    "    goal.target_pose.pose.position.x = w_coordinate_x.value\n",
    "    goal.target_pose.pose.position.y = w_coordinate_y.value\n",
    "\n",
    "    # Send goal to the server\n",
    "    act_client.send_goal(goal)"
   ]
  },
  {
   "cell_type": "code",
   "execution_count": null,
   "id": "5d59006f",
   "metadata": {
    "ExecuteTime": {
     "end_time": "2023-05-29T10:02:42.744001Z",
     "start_time": "2023-05-29T10:02:42.739595Z"
    }
   },
   "outputs": [],
   "source": [
    "def on_cancel_goal_button_clicked(b):\n",
    "    global goal\n",
    "    \n",
    "    # Cancel the goal\n",
    "    act_client.cancel_goal()\n",
    "    \n",
    "    goal = None"
   ]
  },
  {
   "cell_type": "code",
   "execution_count": null,
   "id": "fb65aee5",
   "metadata": {
    "ExecuteTime": {
     "end_time": "2023-05-29T10:02:45.903422Z",
     "start_time": "2023-05-29T10:02:45.870694Z"
    }
   },
   "outputs": [],
   "source": [
    "# Widgets to give the goal coordinates\n",
    "w_coordinate_x = widgets.FloatText(description = 'Coordinate X:', step = 0.1)\n",
    "w_coordinate_y = widgets.FloatText(description = 'Coordinate Y:', step = 0.1)\n",
    "\n",
    "# Button to send the goal\n",
    "send_goal_button = widgets.Button(\n",
    "    description = 'Send goal to the robot',\n",
    "    layout = widgets.Layout(width = 'auto'))\n",
    "\n",
    "send_goal_button.on_click(on_send_goal_button_clicked)\n",
    "\n",
    "# Button to cancel the goal\n",
    "cancel_goal_button = widgets.Button(\n",
    "    description = 'Cancel goal sent to the robot',\n",
    "    layout = widgets.Layout(width = 'auto'))\n",
    "\n",
    "cancel_goal_button.on_click(on_cancel_goal_button_clicked)"
   ]
  },
  {
   "cell_type": "code",
   "execution_count": null,
   "id": "62028d23",
   "metadata": {
    "ExecuteTime": {
     "end_time": "2023-05-27T20:18:31.994733Z",
     "start_time": "2023-05-27T20:18:31.984504Z"
    }
   },
   "outputs": [],
   "source": [
    "def callback_laser_scan(laser_scan):\n",
    "    global last_time_published_laser\n",
    "    \n",
    "    # Only consider obstacles in a 180° field of view in front of the robot\n",
    "    index_start = len(laser_scan.ranges) // 2 - (len(laser_scan.ranges) // 4)\n",
    "    index_end = len(laser_scan.ranges) // 2 + (len(laser_scan.ranges) // 4)\n",
    "    ranges = laser_scan.ranges[index_start:index_end]\n",
    "    min_distance = round(min(ranges),1)\n",
    "    \n",
    "    # Print the distance every 100 ms\n",
    "    current_time = time.time() * 1000\n",
    "    if current_time - last_time_published_laser > 100:\n",
    "        print(\"\\rDistance from the closest obstacle: {}\".format(min_distance), end='')\n",
    "        last_time_published_laser = current_time"
   ]
  },
  {
   "cell_type": "code",
   "execution_count": null,
   "id": "046d84da",
   "metadata": {
    "ExecuteTime": {
     "end_time": "2023-05-29T10:02:50.104560Z",
     "start_time": "2023-05-29T10:02:50.098549Z"
    }
   },
   "outputs": [],
   "source": [
    "def call_Node_B():\n",
    "    # Creation of the service client to send the request for goals reached and canceled\n",
    "    rospy.wait_for_service('/Node_B')\n",
    "    Node_B_serviceProxy = rospy.ServiceProxy('/Node_B', service_goals)\n",
    "    response = Node_B_serviceProxy.service_goalsRequest()\n",
    "    return response"
   ]
  },
  {
   "cell_type": "code",
   "execution_count": null,
   "id": "abe870bf",
   "metadata": {
    "ExecuteTime": {
     "end_time": "2023-05-27T19:36:26.010410Z",
     "start_time": "2023-05-27T19:36:26.005203Z"
    }
   },
   "outputs": [],
   "source": [
    "# Animation class used to plot the robot's position and goal's position\n",
    "class PositionVisualizer:\n",
    "    def __init__(self):\n",
    "        # Init function\n",
    "        self.fig, self.ax = plt.subplots()\n",
    "        # Settings for robot's position plot\n",
    "        self.ln, = plt.plot([], [], 'bo', label = 'Robot position')\n",
    "        # Settings for target's position plot\n",
    "        self.goal_ln, = plt.plot([], [], 'r*', markersize = 10, label = 'Goal position')\n",
    "        # Robot's position data arrays\n",
    "        self.x_data, self.y_data = [], []\n",
    "    \n",
    "    def plot_init(self):\n",
    "        # Set axis limits\n",
    "        self.ax.set_xlim(10, -10)\n",
    "        self.ax.set_ylim(10, -10)\n",
    "        # Set the grid\n",
    "        self.ax.grid(True, color = 'lightgrey')\n",
    "        # Set the title\n",
    "        self.ax.set_title('Robot position to the goal position')\n",
    "        # Set the legend\n",
    "        self.ax.legend(loc = 'upper right')\n",
    "        \n",
    "        return self.ln, self.goal_ln\n",
    "    \n",
    "    def odom_callback(self, message):\n",
    "        # Callback function to update the data arrays\n",
    "        self.x_data.append(message.pose.pose.position.x)\n",
    "        self.y_data.append(message.pose.pose.position.y)\n",
    "    \n",
    "    def update_plot(self, frame):\n",
    "        # Update the robot position plot\n",
    "        self.ln.set_data(self.x_data, self.y_data)\n",
    "\n",
    "        # With this, we can delete the goal marker into the plot\n",
    "        if goal is not None:\n",
    "            self.goal_ln.set_data(goal.target_pose.pose.position.x, goal.target_pose.pose.position.y)\n",
    "        else:\n",
    "            self.goal_ln.set_data([], [])\n",
    "        return self.ln, self.goal_ln"
   ]
  },
  {
   "cell_type": "code",
   "execution_count": null,
   "id": "5bc0a975",
   "metadata": {
    "ExecuteTime": {
     "end_time": "2023-05-29T10:02:57.954071Z",
     "start_time": "2023-05-29T10:02:57.934774Z"
    }
   },
   "outputs": [],
   "source": [
    "# Animation class used to plot the number of goals reached and canceled into a bar chart\n",
    "class GoalsVisualizer:\n",
    "    def __init__(self):\n",
    "        # Initialize the figure and axis\n",
    "        self.fig, self.ax = plt.subplots()\n",
    "        self.ax.set_title('Goals reached and canceled')\n",
    "        \n",
    "        # Set up the initial values for the two bars\n",
    "        self.count_goals_reached = 0\n",
    "        self.count_goals_canceled = 0\n",
    "        \n",
    "        # Set up the horizontal grid\n",
    "        self.ax.grid(axis = 'y', color = 'grey', linestyle = '-', alpha = 0.5)\n",
    "        \n",
    "        # Set up the x-axis tick labels\n",
    "        self.labels = ('Goals Reached', 'Goals Canceled')\n",
    "        self.x_pos = np.arange(len(self.labels))\n",
    "        self.ax.set_xticks(self.x_pos)\n",
    "        self.ax.set_xticklabels(self.labels)\n",
    "        \n",
    "        # Set up the y-axis range and ticks\n",
    "        self.ax.set_ylim([0, 10])\n",
    "        self.ax.set_yticks(np.arange(0, 11, 1))\n",
    "        \n",
    "        # Set up the bar chart\n",
    "        self.bar_colors = ['red', 'blue']\n",
    "        self.bar_plot = self.ax.bar(self.x_pos,\n",
    "                                    [self.count_goals_reached, self.count_goals_canceled],\n",
    "                                    align = 'center',\n",
    "                                    color = self.bar_colors,\n",
    "                                    width = 0.2)\n",
    "        \n",
    "    def goals_callback(self, message):\n",
    "        # Get the number of goals reached and canceled\n",
    "        response = call_service()\n",
    "        self.count_goals_reached = response.count_goals_reached\n",
    "        self.count_goals_canceled = response.count_goals_canceled\n",
    "        \n",
    "    def update_plot(self, frame):\n",
    "        # Update the values of the two bars\n",
    "        self.red_val = np.random.randint(0, 100)\n",
    "        self.blue_val = np.random.randint(0, 100)\n",
    "        \n",
    "        # Update the heights of the bars\n",
    "        for i, bar in enumerate(self.bar_plot):\n",
    "            if i == 0:\n",
    "                bar.set_height(self.count_goals_reached)\n",
    "            else:\n",
    "                bar.set_height(self.count_goals_canceled)\n",
    "                \n",
    "            bar.set_color(self.bar_colors[i])\n",
    "        \n",
    "        return self.bar_plot"
   ]
  },
  {
   "cell_type": "code",
   "execution_count": null,
   "id": "c35d8c4b",
   "metadata": {
    "ExecuteTime": {
     "end_time": "2023-05-29T10:03:01.843111Z",
     "start_time": "2023-05-29T10:03:01.367213Z"
    }
   },
   "outputs": [],
   "source": [
    "# Creation of the node A\n",
    "rospy.init_node('Jupyter')\n",
    "\n",
    "# Creation of the publisher\n",
    "publisher = rospy.Publisher('/position_and_velocity', custom_msg, queue_size = 1)\n",
    "    \n",
    "# Creation of the action client\n",
    "act_client = actionlib.SimpleActionClient('/reaching_goal', assignment_2_2022.msg.PlanningAction)\n",
    "\n",
    "# Waiting the server\n",
    "act_client.wait_for_server()\n",
    "    \n",
    "# Initialization\n",
    "goal = None"
   ]
  },
  {
   "cell_type": "code",
   "execution_count": null,
   "id": "a330215b",
   "metadata": {
    "ExecuteTime": {
     "end_time": "2023-05-29T10:03:11.343224Z",
     "start_time": "2023-05-29T10:03:11.236218Z"
    }
   },
   "outputs": [],
   "source": [
    "last_time_published_odom = 0\n",
    "jr.subscribe('/odom', Odometry, publish_msg)"
   ]
  },
  {
   "cell_type": "code",
   "execution_count": null,
   "id": "1890faf6",
   "metadata": {
    "ExecuteTime": {
     "end_time": "2023-05-27T20:18:40.636403Z",
     "start_time": "2023-05-27T20:18:40.535423Z"
    },
    "scrolled": true
   },
   "outputs": [],
   "source": [
    "last_time_published_laser = 0\n",
    "jr.subscribe('/scan', LaserScan, callback_laser_scan)"
   ]
  },
  {
   "cell_type": "code",
   "execution_count": null,
   "id": "4d204d2f",
   "metadata": {
    "ExecuteTime": {
     "end_time": "2023-05-29T10:03:15.152490Z",
     "start_time": "2023-05-29T10:03:15.105553Z"
    }
   },
   "outputs": [],
   "source": [
    "display(widgets.HBox([w_coordinate_x, w_coordinate_y]))\n",
    "display(widgets.HBox([send_goal_button, cancel_goal_button]))"
   ]
  },
  {
   "cell_type": "code",
   "execution_count": null,
   "id": "ea2d3e57",
   "metadata": {
    "ExecuteTime": {
     "end_time": "2023-05-27T18:47:19.711989Z",
     "start_time": "2023-05-27T18:47:19.192192Z"
    },
    "scrolled": false
   },
   "outputs": [],
   "source": [
    "# Create the visualizer object\n",
    "position_visualizer = PositionVisualizer()\n",
    "    \n",
    "# Subscriber for the odom topic\n",
    "sub = rospy.Subscriber('/odom', Odometry, position_visualizer.odom_callback)\n",
    "\n",
    "# Plot\n",
    "position_animation = FuncAnimation(\n",
    "    position_visualizer.fig,\n",
    "    position_visualizer.update_plot,\n",
    "    init_func = position_visualizer.plot_init,\n",
    "    cache_frame_data = False)\n",
    "plt.show(block = True)"
   ]
  },
  {
   "cell_type": "code",
   "execution_count": null,
   "id": "c6667eaa",
   "metadata": {
    "ExecuteTime": {
     "end_time": "2023-05-29T10:03:30.366850Z",
     "start_time": "2023-05-29T10:03:29.714608Z"
    },
    "scrolled": false
   },
   "outputs": [],
   "source": [
    "# Create the visualizer object\n",
    "goals_visualizer = GoalsVisualizer()\n",
    "\n",
    "# Subscriber for the goals visualizer\n",
    "sub_result = rospy.Subscriber('/reaching_goal/result', assignment_2_2022.msg.PlanningActionResult, goals_visualizer.goals_callback)\n",
    "\n",
    "goals_visualizer_animation = FuncAnimation(\n",
    "    goals_visualizer.fig,\n",
    "    goals_visualizer.update_plot,\n",
    "    interval = 1000,\n",
    "    cache_frame_data = False)\n",
    "plt.show(block = True)"
   ]
  },
  {
   "cell_type": "code",
   "execution_count": null,
   "id": "104ad73c",
   "metadata": {},
   "outputs": [],
   "source": []
  }
 ],
 "metadata": {
  "hide_input": false,
  "kernelspec": {
   "display_name": "Python 3 (ipykernel)",
   "language": "python",
   "name": "python3"
  },
  "language_info": {
   "codemirror_mode": {
    "name": "ipython",
    "version": 3
   },
   "file_extension": ".py",
   "mimetype": "text/x-python",
   "name": "python",
   "nbconvert_exporter": "python",
   "pygments_lexer": "ipython3",
   "version": "3.8.10"
  },
  "toc": {
   "base_numbering": 1,
   "nav_menu": {},
   "number_sections": true,
   "sideBar": true,
   "skip_h1_title": false,
   "title_cell": "Table of Contents",
   "title_sidebar": "Contents",
   "toc_cell": false,
   "toc_position": {},
   "toc_section_display": true,
   "toc_window_display": false
  },
  "varInspector": {
   "cols": {
    "lenName": 16,
    "lenType": 16,
    "lenVar": 40
   },
   "kernels_config": {
    "python": {
     "delete_cmd_postfix": "",
     "delete_cmd_prefix": "del ",
     "library": "var_list.py",
     "varRefreshCmd": "print(var_dic_list())"
    },
    "r": {
     "delete_cmd_postfix": ") ",
     "delete_cmd_prefix": "rm(",
     "library": "var_list.r",
     "varRefreshCmd": "cat(var_dic_list()) "
    }
   },
   "types_to_exclude": [
    "module",
    "function",
    "builtin_function_or_method",
    "instance",
    "_Feature"
   ],
   "window_display": false
  }
 },
 "nbformat": 4,
 "nbformat_minor": 5
}
