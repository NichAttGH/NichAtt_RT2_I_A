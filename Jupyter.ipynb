{
 "cells": [
  {
   "cell_type": "code",
   "execution_count": 1,
   "id": "82ff6aa4",
   "metadata": {
    "ExecuteTime": {
     "end_time": "2023-05-29T10:02:34.520102Z",
     "start_time": "2023-05-29T10:02:32.577496Z"
    }
   },
   "outputs": [],
   "source": [
    "# import ros stuff\n",
    "import rospy\n",
    "import actionlib\n",
    "import actionlib.msg\n",
    "import sys, select\n",
    "import assignment_2_2022.msg\n",
    "from nav_msgs.msg import Odometry\n",
    "from assignment_2_2022.msg import custom_msg\n",
    "from std_srvs.srv import *\n",
    "from geometry_msgs.msg import Twist, Pose, Point\n",
    "\n",
    "import ipywidgets as widgets\n",
    "import jupyros as jr\n",
    "import time\n",
    "from assignment_2_2022.srv import service_goals, service_goalsRequest\n",
    "import matplotlib.pyplot as plt\n",
    "import numpy as np\n",
    "from sensor_msgs.msg import LaserScan\n",
    "from matplotlib.animation import FuncAnimation\n",
    "import math\n",
    "%matplotlib widget"
   ]
  },
  {
   "cell_type": "code",
   "execution_count": 2,
   "id": "3d90d8aa",
   "metadata": {
    "ExecuteTime": {
     "end_time": "2023-05-29T10:02:38.640795Z",
     "start_time": "2023-05-29T10:02:38.632155Z"
    }
   },
   "outputs": [],
   "source": [
    "def publish_msg(message):\n",
    "   \n",
    "    global publisher\n",
    "    global last_time_published_odom\n",
    "        \n",
    "    # Get the position and velocity\n",
    "    pos_x = round(message.pose.pose.position.x, 1)\n",
    "    pos_y = round(message.pose.pose.position.y, 1)\n",
    "    vel_x = message.twist.twist.linear.x\n",
    "    vel_y = message.twist.twist.linear.y\n",
    "\n",
    "    # Creation of the custom message\n",
    "    custom_message = custom_msg()\n",
    "    \n",
    "    custom_message.actual_x = pos_x\n",
    "    custom_message.actual_y = pos_y\n",
    "    custom_message.actual_vel_x = vel_x\n",
    "    custom_message.actual_vel_y = vel_y\n",
    "    \n",
    "    # Publishing the custom message\n",
    "    publisher.publish(custom_message)\n",
    "    \n",
    "    current_time = time.time() * 1000\n",
    "    if current_time - last_time_published_odom > 100:\n",
    "        print(\"\\rRobot position: x={}, y={}\".format(pos_x, pos_y), end='')\n",
    "        last_time_published_odom = current_time"
   ]
  },
  {
   "cell_type": "code",
   "execution_count": 3,
   "id": "e7920d23",
   "metadata": {
    "ExecuteTime": {
     "end_time": "2023-05-29T10:02:40.872771Z",
     "start_time": "2023-05-29T10:02:40.865922Z"
    }
   },
   "outputs": [],
   "source": [
    "def on_send_goal_button_clicked(b):\n",
    "    # Call 'action_cliient' function\n",
    "    action_client()\n",
    "    \n",
    "def action_client():\n",
    "    global goal\n",
    "\n",
    "    # Creation of the goal for the robot\n",
    "    goal = assignment_2_2022.msg.PlanningGoal()\n",
    "    goal.target_pose.pose.position.x = w_coordinate_x.value\n",
    "    goal.target_pose.pose.position.y = w_coordinate_y.value\n",
    "\n",
    "    # Send goal to the server\n",
    "    act_client.send_goal(goal)"
   ]
  },
  {
   "cell_type": "code",
   "execution_count": 4,
   "id": "5d59006f",
   "metadata": {
    "ExecuteTime": {
     "end_time": "2023-05-29T10:02:42.744001Z",
     "start_time": "2023-05-29T10:02:42.739595Z"
    }
   },
   "outputs": [],
   "source": [
    "def on_cancel_goal_button_clicked(b):\n",
    "    global goal\n",
    "    \n",
    "    # Cancel the goal\n",
    "    act_client.cancel_goal()\n",
    "    \n",
    "    goal = None"
   ]
  },
  {
   "cell_type": "code",
   "execution_count": 5,
   "id": "fb65aee5",
   "metadata": {
    "ExecuteTime": {
     "end_time": "2023-05-29T10:02:45.903422Z",
     "start_time": "2023-05-29T10:02:45.870694Z"
    }
   },
   "outputs": [],
   "source": [
    "# Widgets to give the goal coordinates\n",
    "w_coordinate_x = widgets.FloatText(description='Coordinate X:', step = 0.1)\n",
    "w_coordinate_y = widgets.FloatText(description='Coordinate Y:', step = 0.1)\n",
    "\n",
    "# Button to send the goal\n",
    "send_goal_button = widgets.Button(\n",
    "description='Send goal to the robot',\n",
    "layout = widgets.Layout(width = 'auto'))\n",
    "\n",
    "send_goal_button.on_click(on_send_goal_button_clicked)\n",
    "\n",
    "# Button to cancel the goal\n",
    "cancel_goal_button = widgets.Button(\n",
    "description='Cancel goal sent to the robot',\n",
    "layout = widgets.Layout(width = 'auto'))\n",
    "\n",
    "cancel_goal_button.on_click(on_cancel_goal_button_clicked)"
   ]
  },
  {
   "cell_type": "code",
   "execution_count": null,
   "id": "62028d23",
   "metadata": {
    "ExecuteTime": {
     "end_time": "2023-05-27T20:18:31.994733Z",
     "start_time": "2023-05-27T20:18:31.984504Z"
    }
   },
   "outputs": [],
   "source": [
    "def callback_laser_scan(laser_scan):\n",
    "    global last_time_published_laser\n",
    "    \n",
    "    # Only consider obstacles in a 180° field of view in front of the robot\n",
    "    index_start = len(laser_scan.ranges) // 2 - (len(laser_scan.ranges) // 4)\n",
    "    index_end = len(laser_scan.ranges) // 2 + (len(laser_scan.ranges) // 4)\n",
    "    ranges = laser_scan.ranges[index_start:index_end]\n",
    "    min_distance = round(min(ranges),1)\n",
    "    \n",
    "    # Print the distance every 100 ms\n",
    "    current_time = time.time() * 1000\n",
    "    if current_time - last_time_published_laser > 100:\n",
    "        print(\"\\rDistance from the closest obstacle: {}\".format(min_distance), end='')\n",
    "        last_time_published_laser = current_time"
   ]
  },
  {
   "cell_type": "code",
   "execution_count": 6,
   "id": "046d84da",
   "metadata": {
    "ExecuteTime": {
     "end_time": "2023-05-29T10:02:50.104560Z",
     "start_time": "2023-05-29T10:02:50.098549Z"
    }
   },
   "outputs": [],
   "source": [
    "def call_Node_B():\n",
    "    rospy.wait_for_service('/Node_B')\n",
    "    Node_B_serviceProxy = rospy.ServiceProxy('/Node_B', service_goals)\n",
    "    response = Node_B_serviceProxy.service_goalsRequest()\n",
    "    return response"
   ]
  },
  {
   "cell_type": "code",
   "execution_count": null,
   "id": "abe870bf",
   "metadata": {
    "ExecuteTime": {
     "end_time": "2023-05-27T19:36:26.010410Z",
     "start_time": "2023-05-27T19:36:26.005203Z"
    }
   },
   "outputs": [],
   "source": [
    "class PositionVisualizer:\n",
    "    def __init__(self):\n",
    "        # Init function\n",
    "        self.fig, self.ax = plt.subplots()\n",
    "        # Settings for robot's position plot\n",
    "        self.ln, = plt.plot([], [], 'bo', label='Robot position')\n",
    "        # Settings for target's position plot\n",
    "        self.goal_ln, = plt.plot([], [], 'r*', markersize=10, label='Goal position')\n",
    "        # Robot's position data arrays\n",
    "        self.x_data, self.y_data = [], []\n",
    "    \n",
    "    def plot_init(self):\n",
    "        # Set axis limits\n",
    "        self.ax.set_xlim(10, -10)\n",
    "        self.ax.set_ylim(10, -10)\n",
    "        # Set the grid\n",
    "        self.ax.grid(True, color='lightgrey')\n",
    "        # Set the title\n",
    "        self.ax.set_title('Robot position')\n",
    "        # Set the legend\n",
    "        self.ax.legend(loc='upper left')\n",
    "        \n",
    "        return self.ln, self.goal_ln\n",
    "    \n",
    "    def odom_callback(self, message):\n",
    "        # Callback function to update the data arrays\n",
    "        self.x_data.append(message.pose.pose.position.x)\n",
    "        self.y_data.append(message.pose.pose.position.y)\n",
    "    \n",
    "    def update_plot(self, frame):\n",
    "        # Update the robot position plot\n",
    "        self.ln.set_data(self.x_data, self.y_data)\n",
    "\n",
    "        if goal is not None:\n",
    "            self.goal_ln.set_data(goal.target_pose.pose.position.x, goal.target_pose.pose.position.y)\n",
    "        else:\n",
    "            self.goal_ln.set_data([], [])\n",
    "        return self.ln, self.goal_ln"
   ]
  },
  {
   "cell_type": "code",
   "execution_count": 7,
   "id": "5bc0a975",
   "metadata": {
    "ExecuteTime": {
     "end_time": "2023-05-29T10:02:57.954071Z",
     "start_time": "2023-05-29T10:02:57.934774Z"
    }
   },
   "outputs": [],
   "source": [
    "class GoalsVisualizer:\n",
    "    def __init__(self):\n",
    "        # Initialize the figure and axis\n",
    "        self.fig, self.ax = plt.subplots()\n",
    "        self.ax.set_title('Goals reached/cancelled')\n",
    "        \n",
    "        # Set up the initial values for the two bars\n",
    "        self.reached = 0\n",
    "        self.cancelled = 0\n",
    "        \n",
    "        # Set up the horizontal grid\n",
    "        self.ax.grid(axis='y', color='grey', linestyle='-', alpha=0.5)\n",
    "        \n",
    "        # Set up the x-axis tick labels\n",
    "        self.labels = ('Reached', 'Cancelled')\n",
    "        self.x_pos = np.arange(len(self.labels))\n",
    "        self.ax.set_xticks(self.x_pos)\n",
    "        self.ax.set_xticklabels(self.labels)\n",
    "        \n",
    "        # Set up the y-axis range and ticks\n",
    "        self.ax.set_ylim([0, 10])\n",
    "        self.ax.set_yticks(np.arange(0, 11, 1))\n",
    "        \n",
    "        # Set up the bar chart\n",
    "        self.bar_colors = ['green', 'red']\n",
    "        self.bar_plot = self.ax.bar(self.x_pos,\n",
    "                                    [self.reached, self.cancelled],\n",
    "                                    align='center',\n",
    "                                    color=self.bar_colors,\n",
    "                                    width=0.2)\n",
    "        \n",
    "    def goals_callback(self, message):\n",
    "        # Get the number of reached and cancelled goals\n",
    "        response = call_service()\n",
    "        self.reached = response.count_goals_reached\n",
    "        self.cancelled = response.count_goals_cancelled\n",
    "        \n",
    "    def update_plot(self, frame):\n",
    "        # Update the values of the two bars\n",
    "        self.green_val = np.random.randint(0, 100)\n",
    "        self.red_val = np.random.randint(0, 100)\n",
    "        \n",
    "        # Update the heights of the bars\n",
    "        for i, bar in enumerate(self.bar_plot):\n",
    "            if i == 0:\n",
    "                bar.set_height(self.reached)\n",
    "            else:\n",
    "                bar.set_height(self.cancelled)\n",
    "                \n",
    "            bar.set_color(self.bar_colors[i])\n",
    "        \n",
    "        return self.bar_plot"
   ]
  },
  {
   "cell_type": "code",
   "execution_count": 8,
   "id": "c35d8c4b",
   "metadata": {
    "ExecuteTime": {
     "end_time": "2023-05-29T10:03:01.843111Z",
     "start_time": "2023-05-29T10:03:01.367213Z"
    }
   },
   "outputs": [],
   "source": [
    "# Creation of the node A\n",
    "rospy.init_node('Jupyter')\n",
    "\n",
    "# Creation of the Publisher\n",
    "publisher = rospy.Publisher('/position_and_velocity', custom_msg, queue_size = 1)\n",
    "    \n",
    "# Creation of the action client\n",
    "act_client = actionlib.SimpleActionClient('/reaching_goal', assignment_2_2022.msg.PlanningAction)\n",
    "\n",
    "# Waiting the server\n",
    "act_client.wait_for_server()\n",
    "    \n",
    "# Initialization\n",
    "goal = None"
   ]
  },
  {
   "cell_type": "code",
   "execution_count": 9,
   "id": "a330215b",
   "metadata": {
    "ExecuteTime": {
     "end_time": "2023-05-29T10:03:11.343224Z",
     "start_time": "2023-05-29T10:03:11.236218Z"
    }
   },
   "outputs": [
    {
     "data": {
      "application/vnd.jupyter.widget-view+json": {
       "model_id": "523993e835594ad3ac4c88eab6314c06",
       "version_major": 2,
       "version_minor": 0
      },
      "text/plain": [
       "VBox(children=(HBox(children=(Button(description='Stop', style=ButtonStyle()),)), Output(layout=Layout(border=…"
      ]
     },
     "metadata": {},
     "output_type": "display_data"
    }
   ],
   "source": [
    "last_time_published_odom = 0\n",
    "jr.subscribe('/odom', Odometry, publish_msg)"
   ]
  },
  {
   "cell_type": "code",
   "execution_count": null,
   "id": "1890faf6",
   "metadata": {
    "ExecuteTime": {
     "end_time": "2023-05-27T20:18:40.636403Z",
     "start_time": "2023-05-27T20:18:40.535423Z"
    },
    "scrolled": true
   },
   "outputs": [],
   "source": [
    "last_time_published_laser = 0\n",
    "jr.subscribe('/scan', LaserScan, callback_laser_scan)"
   ]
  },
  {
   "cell_type": "code",
   "execution_count": 10,
   "id": "4d204d2f",
   "metadata": {
    "ExecuteTime": {
     "end_time": "2023-05-29T10:03:15.152490Z",
     "start_time": "2023-05-29T10:03:15.105553Z"
    }
   },
   "outputs": [
    {
     "data": {
      "application/vnd.jupyter.widget-view+json": {
       "model_id": "a47439f13b414f57ab8d5379bfd861f2",
       "version_major": 2,
       "version_minor": 0
      },
      "text/plain": [
       "HBox(children=(FloatText(value=0.0, description='Coordinate X:', step=0.1), FloatText(value=0.0, description='…"
      ]
     },
     "metadata": {},
     "output_type": "display_data"
    },
    {
     "data": {
      "application/vnd.jupyter.widget-view+json": {
       "model_id": "bec9a381a95c4310b56c88f622751e49",
       "version_major": 2,
       "version_minor": 0
      },
      "text/plain": [
       "HBox(children=(Button(description='Send goal to the robot', layout=Layout(width='auto'), style=ButtonStyle()),…"
      ]
     },
     "metadata": {},
     "output_type": "display_data"
    }
   ],
   "source": [
    "display(widgets.HBox([w_coordinate_x, w_coordinate_y]))\n",
    "display(widgets.HBox([send_goal_button, cancel_goal_button]))"
   ]
  },
  {
   "cell_type": "code",
   "execution_count": null,
   "id": "ea2d3e57",
   "metadata": {
    "ExecuteTime": {
     "end_time": "2023-05-27T18:47:19.711989Z",
     "start_time": "2023-05-27T18:47:19.192192Z"
    },
    "scrolled": false
   },
   "outputs": [],
   "source": [
    "# Create the visualizer object\n",
    "position_visualizer = PositionVisualizer()\n",
    "    \n",
    "# Subscriber for the odom topic\n",
    "sub = rospy.Subscriber('/odom', Odometry, position_visualizer.odom_callback)\n",
    "\n",
    "# Plot\n",
    "position_animation = FuncAnimation(\n",
    "    position_visualizer.fig,\n",
    "    position_visualizer.update_plot,\n",
    "    init_func = position_visualizer.plot_init,\n",
    "    cache_frame_data = False)\n",
    "plt.show(block = True)"
   ]
  },
  {
   "cell_type": "code",
   "execution_count": 11,
   "id": "c6667eaa",
   "metadata": {
    "ExecuteTime": {
     "end_time": "2023-05-29T10:03:30.366850Z",
     "start_time": "2023-05-29T10:03:29.714608Z"
    },
    "scrolled": false
   },
   "outputs": [
    {
     "data": {
      "application/vnd.jupyter.widget-view+json": {
       "model_id": "da383ed017654f86b4eaed29f7120fee",
       "version_major": 2,
       "version_minor": 0
      },
      "image/png": "[encoded data removed]",
      "text/html": [
       "\n",
       "            <div style=\"display: inline-block;\">\n",
       "                <div class=\"jupyter-widgets widget-label\" style=\"text-align: center;\">\n",
       "                    Figure\n",
       "                </div>\n",
       "                <img src='data:image/png;base64,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' width=640.0/>\n",
       "            </div>\n",
       "        "
      ],
      "text/plain": [
       "Canvas(toolbar=Toolbar(toolitems=[('Home', 'Reset original view', 'home', 'home'), ('Back', 'Back to previous …"
      ]
     },
     "metadata": {},
     "output_type": "display_data"
    }
   ],
   "source": [
    "# Create the visualizer object\n",
    "g_vis = GoalsVisualizer()\n",
    "# Subscriber for the goals visualizer\n",
    "sub_result = rospy.Subscriber('/reaching_goal/result', assignment_2_2022.msg.PlanningActionResult, g_vis.goals_callback)\n",
    "\n",
    "g_ani = FuncAnimation(g_vis.fig, g_vis.update_plot, interval=1000, cache_frame_data = False)\n",
    "plt.show(block=True)"
   ]
  },
  {
   "cell_type": "code",
   "execution_count": null,
   "id": "104ad73c",
   "metadata": {},
   "outputs": [],
   "source": []
  }
 ],
 "metadata": {
  "hide_input": false,
  "kernelspec": {
   "display_name": "Python 3 (ipykernel)",
   "language": "python",
   "name": "python3"
  },
  "language_info": {
   "codemirror_mode": {
    "name": "ipython",
    "version": 3
   },
   "file_extension": ".py",
   "mimetype": "text/x-python",
   "name": "python",
   "nbconvert_exporter": "python",
   "pygments_lexer": "ipython3",
   "version": "3.8.10"
  },
  "toc": {
   "base_numbering": 1,
   "nav_menu": {},
   "number_sections": true,
   "sideBar": true,
   "skip_h1_title": false,
   "title_cell": "Table of Contents",
   "title_sidebar": "Contents",
   "toc_cell": false,
   "toc_position": {},
   "toc_section_display": true,
   "toc_window_display": false
  },
  "varInspector": {
   "cols": {
    "lenName": 16,
    "lenType": 16,
    "lenVar": 40
   },
   "kernels_config": {
    "python": {
     "delete_cmd_postfix": "",
     "delete_cmd_prefix": "del ",
     "library": "var_list.py",
     "varRefreshCmd": "print(var_dic_list())"
    },
    "r": {
     "delete_cmd_postfix": ") ",
     "delete_cmd_prefix": "rm(",
     "library": "var_list.r",
     "varRefreshCmd": "cat(var_dic_list()) "
    }
   },
   "types_to_exclude": [
    "module",
    "function",
    "builtin_function_or_method",
    "instance",
    "_Feature"
   ],
   "window_display": false
  }
 },
 "nbformat": 4,
 "nbformat_minor": 5
}
